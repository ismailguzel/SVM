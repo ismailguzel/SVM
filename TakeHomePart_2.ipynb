{
 "cells": [
  {
   "cell_type": "markdown",
   "metadata": {},
   "source": [
    "#### İsmail GÜZEL  509182203\n",
    "# Class $c_1$ and $c_2$ with Gaussian noise for the mean $\\mu=0$ and the standart deviation $\\sigma=0.1$"
   ]
  },
  {
   "cell_type": "code",
   "execution_count": 1,
   "metadata": {},
   "outputs": [],
   "source": [
    "import matplotlib.pyplot as plt\n",
    "import pandas as pd\n",
    "import numpy as np\n",
    "from sklearn import svm\n",
    "import math"
   ]
  },
  {
   "cell_type": "code",
   "execution_count": 2,
   "metadata": {},
   "outputs": [
    {
     "data": {
      "text/html": [
       "<div>\n",
       "<style scoped>\n",
       "    .dataframe tbody tr th:only-of-type {\n",
       "        vertical-align: middle;\n",
       "    }\n",
       "\n",
       "    .dataframe tbody tr th {\n",
       "        vertical-align: top;\n",
       "    }\n",
       "\n",
       "    .dataframe thead th {\n",
       "        text-align: right;\n",
       "    }\n",
       "</style>\n",
       "<table border=\"1\" class=\"dataframe\">\n",
       "  <thead>\n",
       "    <tr style=\"text-align: right;\">\n",
       "      <th></th>\n",
       "      <th>x_1</th>\n",
       "      <th>x_2</th>\n",
       "    </tr>\n",
       "  </thead>\n",
       "  <tbody>\n",
       "    <tr>\n",
       "      <th>count</th>\n",
       "      <td>200.000000</td>\n",
       "      <td>200.000000</td>\n",
       "    </tr>\n",
       "    <tr>\n",
       "      <th>mean</th>\n",
       "      <td>1.042867</td>\n",
       "      <td>0.915599</td>\n",
       "    </tr>\n",
       "    <tr>\n",
       "      <th>std</th>\n",
       "      <td>1.409634</td>\n",
       "      <td>1.421630</td>\n",
       "    </tr>\n",
       "    <tr>\n",
       "      <th>min</th>\n",
       "      <td>-2.944300</td>\n",
       "      <td>-2.329900</td>\n",
       "    </tr>\n",
       "    <tr>\n",
       "      <th>25%</th>\n",
       "      <td>0.066200</td>\n",
       "      <td>-0.180900</td>\n",
       "    </tr>\n",
       "    <tr>\n",
       "      <th>50%</th>\n",
       "      <td>1.053950</td>\n",
       "      <td>0.851200</td>\n",
       "    </tr>\n",
       "    <tr>\n",
       "      <th>75%</th>\n",
       "      <td>2.117150</td>\n",
       "      <td>1.961000</td>\n",
       "    </tr>\n",
       "    <tr>\n",
       "      <th>max</th>\n",
       "      <td>4.508800</td>\n",
       "      <td>4.789100</td>\n",
       "    </tr>\n",
       "  </tbody>\n",
       "</table>\n",
       "</div>"
      ],
      "text/plain": [
       "              x_1         x_2\n",
       "count  200.000000  200.000000\n",
       "mean     1.042867    0.915599\n",
       "std      1.409634    1.421630\n",
       "min     -2.944300   -2.329900\n",
       "25%      0.066200   -0.180900\n",
       "50%      1.053950    0.851200\n",
       "75%      2.117150    1.961000\n",
       "max      4.508800    4.789100"
      ]
     },
     "execution_count": 2,
     "metadata": {},
     "output_type": "execute_result"
    }
   ],
   "source": [
    "c1_class = pd.read_csv(\"C1_pts.csv\", skiprows= 3 , header =None, sep= \"\\s+\",names= [\"x_1\",\"x_2\"])\n",
    "c2_class = pd.read_csv(\"C2_pts.csv\", skiprows= 3 , header =None, sep= \"\\s+\",names= [\"x_1\",\"x_2\"])\n",
    "c1_class[\"Class\"]=\"1\"\n",
    "c2_class[\"Class\"]=\"2\"\n",
    "dataset=c1_class.append(c2_class, ignore_index= True)\n",
    "dataset.describe()"
   ]
  },
  {
   "cell_type": "markdown",
   "metadata": {},
   "source": [
    "We generate the number of 200 noise with Gausian $\\mu=0$ and $\\sigma=0.1$.\n",
    "\n",
    "Then we add the noise to the clean dataset for all feature spcaces"
   ]
  },
  {
   "cell_type": "code",
   "execution_count": 8,
   "metadata": {},
   "outputs": [
    {
     "data": {
      "text/html": [
       "<div>\n",
       "<style scoped>\n",
       "    .dataframe tbody tr th:only-of-type {\n",
       "        vertical-align: middle;\n",
       "    }\n",
       "\n",
       "    .dataframe tbody tr th {\n",
       "        vertical-align: top;\n",
       "    }\n",
       "\n",
       "    .dataframe thead th {\n",
       "        text-align: right;\n",
       "    }\n",
       "</style>\n",
       "<table border=\"1\" class=\"dataframe\">\n",
       "  <thead>\n",
       "    <tr style=\"text-align: right;\">\n",
       "      <th></th>\n",
       "      <th>x_1</th>\n",
       "      <th>x_2</th>\n",
       "    </tr>\n",
       "  </thead>\n",
       "  <tbody>\n",
       "    <tr>\n",
       "      <th>count</th>\n",
       "      <td>200.000000</td>\n",
       "      <td>200.000000</td>\n",
       "    </tr>\n",
       "    <tr>\n",
       "      <th>mean</th>\n",
       "      <td>0.974250</td>\n",
       "      <td>0.846982</td>\n",
       "    </tr>\n",
       "    <tr>\n",
       "      <th>std</th>\n",
       "      <td>1.724259</td>\n",
       "      <td>1.734526</td>\n",
       "    </tr>\n",
       "    <tr>\n",
       "      <th>min</th>\n",
       "      <td>-4.044342</td>\n",
       "      <td>-3.695055</td>\n",
       "    </tr>\n",
       "    <tr>\n",
       "      <th>25%</th>\n",
       "      <td>-0.207272</td>\n",
       "      <td>-0.407853</td>\n",
       "    </tr>\n",
       "    <tr>\n",
       "      <th>50%</th>\n",
       "      <td>1.086208</td>\n",
       "      <td>0.887714</td>\n",
       "    </tr>\n",
       "    <tr>\n",
       "      <th>75%</th>\n",
       "      <td>2.250277</td>\n",
       "      <td>1.970016</td>\n",
       "    </tr>\n",
       "    <tr>\n",
       "      <th>max</th>\n",
       "      <td>5.403822</td>\n",
       "      <td>5.133093</td>\n",
       "    </tr>\n",
       "  </tbody>\n",
       "</table>\n",
       "</div>"
      ],
      "text/plain": [
       "              x_1         x_2\n",
       "count  200.000000  200.000000\n",
       "mean     0.974250    0.846982\n",
       "std      1.724259    1.734526\n",
       "min     -4.044342   -3.695055\n",
       "25%     -0.207272   -0.407853\n",
       "50%      1.086208    0.887714\n",
       "75%      2.250277    1.970016\n",
       "max      5.403822    5.133093"
      ]
     },
     "execution_count": 8,
     "metadata": {},
     "output_type": "execute_result"
    }
   ],
   "source": [
    "noise = np.random.normal(0,math.sqrt(1),200)\n",
    "datanoise1= dataset[\"x_1\"]+ noise\n",
    "datanoise2 = dataset[\"x_2\"]+ noise\n",
    "datanoise=pd.concat([datanoise1,datanoise2], axis=1)\n",
    "datanoise.describe()"
   ]
  },
  {
   "cell_type": "code",
   "execution_count": 9,
   "metadata": {},
   "outputs": [
    {
     "data": {
      "text/plain": [
       "SVC(C=1, cache_size=200, class_weight=None, coef0=0.0,\n",
       "  decision_function_shape='ovr', degree=3, gamma='auto', kernel='linear',\n",
       "  max_iter=-1, probability=False, random_state=None, shrinking=True,\n",
       "  tol=0.001, verbose=False)"
      ]
     },
     "execution_count": 9,
     "metadata": {},
     "output_type": "execute_result"
    }
   ],
   "source": [
    "clf = svm.SVC(kernel='linear', C = 1)\n",
    "clf.fit(datanoise,dataset[\"Class\"])"
   ]
  },
  {
   "cell_type": "code",
   "execution_count": 10,
   "metadata": {},
   "outputs": [
    {
     "name": "stdout",
     "output_type": "stream",
     "text": [
      "[0.46839393 0.67007668]\n",
      "-0.9795113262652203\n"
     ]
    }
   ],
   "source": [
    "w = clf.coef_[0]\n",
    "print(w)\n",
    "print(clf.intercept_[0])\n",
    "\n",
    "x1 = np.linspace(-3,5)\n",
    "x2 = (-w[0] / w[1] ) * x1 - clf.intercept_[0] / w[1]"
   ]
  },
  {
   "cell_type": "code",
   "execution_count": 11,
   "metadata": {},
   "outputs": [
    {
     "data": {
      "image/png": "[encoded data removed]",
      "text/plain": [
       "<Figure size 720x576 with 1 Axes>"
      ]
     },
     "metadata": {
      "needs_background": "light"
     },
     "output_type": "display_data"
    }
   ],
   "source": [
    "fig= plt.figure(figsize=(10,8))\n",
    "plt.plot(x1, x2, 'b-', label=\"hyperplane\") \n",
    "                            \n",
    "plt.scatter(datanoise[\"x_1\"][:100], datanoise[\"x_2\"][:100],color=\"r\" , label = \"$C_1$\")\n",
    "plt.scatter(datanoise[\"x_1\"][100:], datanoise[\"x_2\"][100:],color=\"g\",  label = \"$C_2$\")\n",
    "\n",
    "plt.xlabel(\"The value $x_1$ of classes\")\n",
    "plt.ylabel(\"The value $x_2$ of classes\")\n",
    "plt.title(\"Training Data for Classe $C_1$ and $C_2$\")\n",
    "plt.legend(bbox_to_anchor=(1.05, 1), loc=2, borderaxespad=0.)\n",
    "\n",
    "plt.show()"
   ]
  },
  {
   "cell_type": "code",
   "execution_count": null,
   "metadata": {},
   "outputs": [],
   "source": []
  }
 ],
 "metadata": {
  "kernelspec": {
   "display_name": "Python 3",
   "language": "python",
   "name": "python3"
  },
  "language_info": {
   "codemirror_mode": {
    "name": "ipython",
    "version": 3
   },
   "file_extension": ".py",
   "mimetype": "text/x-python",
   "name": "python",
   "nbconvert_exporter": "python",
   "pygments_lexer": "ipython3",
   "version": "3.7.0"
  }
 },
 "nbformat": 4,
 "nbformat_minor": 2
}
